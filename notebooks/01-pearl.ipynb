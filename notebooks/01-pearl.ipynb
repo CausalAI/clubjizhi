{
 "cells": [
  {
   "cell_type": "markdown",
   "metadata": {
    "Collapsed": "false"
   },
   "source": [
    "# Judea Pearl\n",
    "\n",
    "\n",
    "本文主要讲讲 the book of why, Judea Pearl, Pearl2009 causality 和其他的几篇论文。\n",
    "\n",
    "\n",
    "You can suggest and comment [here](https://colab.research.google.com/drive/1LwBaJu9pjzS5PGsAdq8DdPbQhQL5IlJN#scrollTo=Q5Ckm0bWoazu&line=3&uniqifier=1)\n",
    "\n"
   ]
  },
  {
   "cell_type": "code",
   "execution_count": null,
   "metadata": {
    "Collapsed": "false"
   },
   "outputs": [],
   "source": []
  }
 ],
 "metadata": {
  "kernelspec": {
   "display_name": "Python 3",
   "language": "python",
   "name": "python3"
  },
  "language_info": {
   "codemirror_mode": {
    "name": "ipython",
    "version": 3
   },
   "file_extension": ".py",
   "mimetype": "text/x-python",
   "name": "python",
   "nbconvert_exporter": "python",
   "pygments_lexer": "ipython3",
   "version": "3.7.4"
  }
 },
 "nbformat": 4,
 "nbformat_minor": 4
}
