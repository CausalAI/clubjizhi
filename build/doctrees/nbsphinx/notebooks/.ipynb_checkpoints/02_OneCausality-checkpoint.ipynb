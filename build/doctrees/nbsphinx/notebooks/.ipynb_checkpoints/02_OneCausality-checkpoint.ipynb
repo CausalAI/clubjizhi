{
 "cells": [
  {
   "cell_type": "markdown",
   "metadata": {
    "colab_type": "text",
    "id": "K2pGsumSjrP0"
   },
   "source": [
    "# One Causality \n",
    "\n",
    "一个人，一篇论文，一个视频，一个slide, 一个会议，一个教程，一句话，说明因果推断。\n"
   ]
  },
  {
   "cell_type": "markdown",
   "metadata": {
    "colab_type": "text",
    "id": "7H0tXWxlUVF_"
   },
   "source": [
    "小图灵测试：How can machines represent causal knowledge in a way that would enable them to access the necessary information swiftly, answer questions correctly, and do it with ease, as a human can? "
   ]
  },
  {
   "cell_type": "markdown",
   "metadata": {
    "colab_type": "text",
    "id": "LmKbKuv2T90h"
   },
   "source": [
    "## Judea Pearl\n",
    "\n",
    "Judea Pearl is credited for causal diagrams. 更多详细内容参考：\n",
    "\n",
    "- Homepage: http://bayes.cs.ucla.edu/jp_home.html\n",
    "- [Survey of Judea Pearl](https://colab.research.google.com/drive/1s4d-FaNFmPQNCDJ187DK09liZoMO1PQP)\n",
    "\n",
    "更多因果研究工作者参考：https://sites.google.com/view/causal-inference-zerotoall/people"
   ]
  },
  {
   "cell_type": "markdown",
   "metadata": {
    "colab_type": "text",
    "id": "vGylJ-dsUBl_"
   },
   "source": [
    "## Seven Tools\n",
    "\n",
    "这是是一篇必须背诵的综述和启发性文章。该论文首先总结了当前AI面临的三个主要困难，指出教会机器因果推理能够解决这些困难。然后提出构建因果引擎的三级因果思维，指出当前机器学习算法都停留在第一个层面。最后综述了因果研究的七大方面内容。\n",
    "- 论文地址：[The seven tools of causal inference, with reflections on machine learning](https://cacm.acm.org/magazines/2019/3/234929-the-seven-tools-of-causal-inference-with-reflections-on-machine-learning/fulltext). \n",
    "- [论文解读 Pear 2019 seven tools of causal inference](https://colab.research.google.com/drive/1g-tQRd_r8uwAOwotxJisvpI5gzt0Zipi)"
   ]
  },
  {
   "cell_type": "markdown",
   "metadata": {
    "colab_type": "text",
    "id": "-Crg-1FU_Ur5"
   },
   "source": [
    "\n",
    "- ACM Mar. 2019 - The Seven Tools of Causal Inference\n",
    "\n",
    "该视频基本上就是 Judea Pearl 亲自向大家介绍他的论文 The seven tools of causal inference, with reflections on machine learning."
   ]
  },
  {
   "cell_type": "code",
   "execution_count": 0,
   "metadata": {
    "colab": {
     "base_uri": "https://localhost:8080/",
     "height": 421
    },
    "colab_type": "code",
    "id": "Ptjg_Kiv-Zi1",
    "outputId": "4244cba9-4374-4ea0-aa8a-3528db1e2b5b"
   },
   "outputs": [
    {
     "data": {
      "image/jpeg": "[encoded data removed]",
      "text/html": [
       "\n",
       "        <iframe\n",
       "            width=\"800\"\n",
       "            height=\"400\"\n",
       "            src=\"https://www.youtube.com/embed/CsMV5o3hotY\"\n",
       "            frameborder=\"0\"\n",
       "            allowfullscreen\n",
       "        ></iframe>\n",
       "        "
      ],
      "text/plain": [
       "<IPython.lib.display.YouTubeVideo at 0x7f051dee9198>"
      ]
     },
     "execution_count": 1,
     "metadata": {
      "tags": []
     },
     "output_type": "execute_result"
    }
   ],
   "source": [
    "from IPython.display import YouTubeVideo\n",
    "YouTubeVideo('CsMV5o3hotY', width=800, height=400)"
   ]
  },
  {
   "cell_type": "markdown",
   "metadata": {
    "colab_type": "text",
    "id": "VF-yiZypUEbB"
   },
   "source": [
    "## Video: The new science of cause inference\n",
    "\n",
    "我们推荐一个因果理论的介绍性视频。该一个多小时的视频是研究因果理论必看的。\n"
   ]
  },
  {
   "cell_type": "code",
   "execution_count": 0,
   "metadata": {
    "colab": {
     "base_uri": "https://localhost:8080/",
     "height": 321
    },
    "colab_type": "code",
    "id": "DZVhOchQBLFF",
    "outputId": "f30689e7-19e4-43d7-8de5-c0c4992e3a92"
   },
   "outputs": [
    {
     "data": {
      "image/jpeg": "[encoded data removed]",
      "text/html": [
       "\n",
       "        <iframe\n",
       "            width=\"600\"\n",
       "            height=\"300\"\n",
       "            src=\"https://www.youtube.com/embed/ZaPV1OSEpHw\"\n",
       "            frameborder=\"0\"\n",
       "            allowfullscreen\n",
       "        ></iframe>\n",
       "        "
      ],
      "text/plain": [
       "<IPython.lib.display.YouTubeVideo at 0x7f051dee9a90>"
      ]
     },
     "execution_count": 5,
     "metadata": {
      "tags": []
     },
     "output_type": "execute_result"
    }
   ],
   "source": [
    "from IPython.display import YouTubeVideo\n",
    "YouTubeVideo('ZaPV1OSEpHw', width=600)\n",
    "# A Introduction to Causal Inference \n",
    "# Keynote: Judea Pearl - The New Science of Cause and Effect\n"
   ]
  },
  {
   "cell_type": "markdown",
   "metadata": {
    "colab_type": "text",
    "id": "Vg4EJnOYUK-P"
   },
   "source": [
    "## Slide\n",
    "\n",
    "Bernhard Schölkopf is a director at the Max Planck Institute for Intelligent Systems in Tübingen, Germany, where he heads the Department of Empirical Inference.\n",
    "\n",
    "Bernhard Scholkpf 关于 Causality for Machine Learning 的一个介绍\n",
    "\n",
    "https://drive.google.com/file/d/1YjkCTX_ns5ba4DvdNtfRcSBoAEFPXKuz/view"
   ]
  },
  {
   "cell_type": "markdown",
   "metadata": {
    "colab_type": "text",
    "id": "kvZ2ZOOxUK5x"
   },
   "source": [
    "## 一个会议\n",
    "\n",
    "AAAI-WHY 2019 Judea Pearl 邀请各路大牛关于因果与未来AI的会议。\n",
    "\n",
    "会议网址：https://why19.causalai.net/\n",
    "\n",
    "\n",
    "\n"
   ]
  },
  {
   "cell_type": "markdown",
   "metadata": {
    "colab_type": "text",
    "id": "26Kh_pfRUK0j"
   },
   "source": [
    "## Tutorial"
   ]
  },
  {
   "cell_type": "markdown",
   "metadata": {
    "colab_type": "text",
    "id": "jYzLaE8QUKw5"
   },
   "source": [
    "```\n",
    "Tutorial on Causal Inference and Counterfactual Reasoning\n",
    "Amit Sharma (@amt_shrma), Emre Kiciman (@emrek)\n",
    "\n",
    "ACM KDD 2018 International Conference on Knowledge Discovery and Data Mining, London, UK\n",
    "\n",
    "http://causalinference.gitlab.io/kdd-tutorial\n",
    "\n",
    "Code: http://github.com/Microsoft/dowhy\n",
    "```\n",
    "\n",
    "该教程微软因果推理小组，在 ACM KDD 2018 一个关于因果推断非常详细清楚的介绍。Pearl的因果图模型是通向AGI的一个重要组件，但是由于其理论尚未完善（例如当前结果大部分都是建立在有向无环图的基础上，Bernhard 指出有环的情况难以处理），相关的实践并不多。相反在传统的因果推断理论在相关理论已经被广泛使用，该教程关注传统领域的因果效应估计问题，既讲清楚了因果理论的基础概念，又讲了很多直观简单的例子，所以非常推荐。"
   ]
  },
  {
   "cell_type": "markdown",
   "metadata": {
    "colab_type": "text",
    "id": "pomJvcDsUKtT"
   },
   "source": []
  }
 ],
 "metadata": {
  "colab": {
   "collapsed_sections": [],
   "name": "02-OneCausality.ipynb",
   "provenance": [],
   "toc_visible": true
  },
  "kernelspec": {
   "display_name": "Python 3",
   "language": "python",
   "name": "python3"
  },
  "language_info": {
   "codemirror_mode": {
    "name": "ipython",
    "version": 3
   },
   "file_extension": ".py",
   "mimetype": "text/x-python",
   "name": "python",
   "nbconvert_exporter": "python",
   "pygments_lexer": "ipython3",
   "version": "3.6.7"
  }
 },
 "nbformat": 4,
 "nbformat_minor": 0
}
