{
 "cells": [
  {
   "cell_type": "markdown",
   "metadata": {
    "Collapsed": "false"
   },
   "source": [
    "# 读书会论文和教材清单\n",
    "\n",
    "写出我们需要做的论文和教材。"
   ]
  },
  {
   "cell_type": "markdown",
   "metadata": {
    "Collapsed": "false",
    "colab_type": "text",
    "id": "vGylJ-dsUBl_"
   },
   "source": [
    "## Judea Pearl\n",
    "\n",
    "Judea Pearl 有三篇必读论文\n",
    "\n",
    "- J. Pearl, \"The Seven Tools of Causal Inference with Reflections on Machine Learning,\" July 2018. Communications of ACM, 62(3): 54-60, March 2019\n",
    "- J. Pearl, \"Causal and counterfactual inference,\" October 2019. Forthcoming section in The Handbook of Rationality, MIT Press.\n",
    "- J. Pearl, \"Causal inference in statistics: An overview,\"  Statistics Surveys,  3:96--146, 2009.\n",
    "\n",
    "和两本必读书籍\n",
    "\n",
    "- The Book of Why: The New Science of Cause and Effect (with Dana Mackenzie), New York: Basic Books, May 2018\n",
    "- Causality: Models, Reasoning, and Inference, Cambridge University Press, 2000; 2nd edition, 2009."
   ]
  },
  {
   "cell_type": "markdown",
   "metadata": {
    "Collapsed": "false",
    "colab_type": "text",
    "id": "vGylJ-dsUBl_"
   },
   "source": [
    "- 论文地址：[The seven tools of causal inference, with reflections on machine learning](https://cacm.acm.org/magazines/2019/3/234929-the-seven-tools-of-causal-inference-with-reflections-on-machine-learning/fulltext). \n",
    "- [论文解读 Pear 2019 seven tools of causal inference](https://colab.research.google.com/drive/1g-tQRd_r8uwAOwotxJisvpI5gzt0Zipi)\n",
    "\n",
    "这是是一篇必须背诵的综述和启发性文章。该论文首先总结了当前AI面临的三个主要困难，指出教会机器因果推理能够解决这些困难。然后提出构建因果引擎的三级因果思维，指出当前机器学习算法都停留在第一个层面。最后综述了因果研究的七大方面内容。"
   ]
  },
  {
   "cell_type": "code",
   "execution_count": 1,
   "metadata": {
    "Collapsed": "false",
    "colab": {
     "base_uri": "https://localhost:8080/",
     "height": 421
    },
    "colab_type": "code",
    "id": "Ptjg_Kiv-Zi1",
    "outputId": "4244cba9-4374-4ea0-aa8a-3528db1e2b5b"
   },
   "outputs": [
    {
     "data": {
      "image/jpeg": "[encoded data removed]",
      "text/html": [
       "\n",
       "        <iframe\n",
       "            width=\"800\"\n",
       "            height=\"400\"\n",
       "            src=\"https://www.youtube.com/embed/CsMV5o3hotY\"\n",
       "            frameborder=\"0\"\n",
       "            allowfullscreen\n",
       "        ></iframe>\n",
       "        "
      ],
      "text/plain": [
       "<IPython.lib.display.YouTubeVideo at 0x111b772d0>"
      ]
     },
     "execution_count": 1,
     "metadata": {},
     "output_type": "execute_result"
    }
   ],
   "source": [
    "from IPython.display import YouTubeVideo\n",
    "YouTubeVideo('CsMV5o3hotY', width=800, height=400)"
   ]
  },
  {
   "cell_type": "markdown",
   "metadata": {
    "Collapsed": "false"
   },
   "source": [
    "## Bernhard Scholkopf\n",
    "\n",
    "Bernhard Scholkopf 有一篇必读的论文，被 Judea Pearl 亲自 twitter 点赞，并且该点赞被 Bernhard SCholkopf 立刻挂在了自己的个人主页炫耀。\n",
    "\n",
    "- Causality for Machine Learning, Bernhard Schölkopf, 2019"
   ]
  },
  {
   "cell_type": "markdown",
   "metadata": {
    "Collapsed": "false"
   },
   "source": [
    "一个本结合机器学习和因果研究的教材\n",
    "\n",
    "- Elements of Causal Inference: Foundations and Learning Algorithms, By Jonas Peters, Dominik Janzing and Bernhard Schölkopf"
   ]
  },
  {
   "cell_type": "markdown",
   "metadata": {
    "Collapsed": "false"
   },
   "source": [
    "## Yousha Bengio \n",
    "\n",
    "\n",
    "Yoshua Bengio system 2 deep learning，结合了 neuroscience，认知科学等，大局观上把握！核心贡献是告诉我们什么是因果变量。他有一个必听报告：\n",
    "\n",
    "- From System 1 Deep Learning to System 2 Deep Learning\n"
   ]
  },
  {
   "cell_type": "markdown",
   "metadata": {
    "Collapsed": "false"
   },
   "source": [
    "## 综述文章\n",
    "\n",
    "\n",
    "- [A Survey of Learning Causality with Data: Problems and Methods 2019 arxiv](https://arxiv.org/abs/1809.09337)\n",
    "\n",
    "\n",
    "（该论文全面的介绍了因果和机器学习的融合）The era of big data provides researchers with convenient access to copious data. However, people often have little knowledge about it. The increasing prevalence of big data is challenging the traditional methods of learning causality because they are developed for the cases with limited amount of data and solid prior causal knowledge. This survey aims to close the gap between big data and learning causality with a comprehensive and structured review of traditional and frontier methods and a discussion about some open problems of learning causality. We begin with preliminaries of learning causality. Then we categorize and revisit methods of learning causality for the typical problems and data types. After that, we discuss the connections between learning causality and machine learning. At the end, some open problems are presented to show the great potential of learning causality with data.\n",
    "\n",
    "- [A Survey on Causal Inference](https://arxiv.org/abs/2002.02770) AAAI 2020 tutorial\n",
    "\n",
    "特别清晰的介绍 Pontential Outcome 框架，并且清晰全面的阐述了该因果建模框架下，各种因果效应估计方法。\n",
    "\n",
    "- [Causal Inference](https://www.google.com/url?q=https%3A%2F%2Fwww.sciencedirect.com%2Fscience%2Farticle%2Fpii%2FS2095809919305235&sa=D&sntz=1&usg=AFQjCNEOBzdVT-UAwK3xkNxqFLNeVVeArA)\n",
    "\n",
    "该综述文章由八位华人因果研究人员 Kun Kuang Wang Miao Peng Ding Huaxin Huang LIAO Beishui Kun Zhang  Lei Xu  Zhi Geng 共同撰写。主要特点是非常简短清晰的介绍了 CPT 理论等前沿理论，关键是有中文版。"
   ]
  },
  {
   "cell_type": "markdown",
   "metadata": {
    "Collapsed": "false"
   },
   "source": [
    "## 其他可选内容\n",
    "\n",
    "其他更多内容包括各种AI顶会，见 https://sites.google.com/view/causal-inference-zerotoall/conferences ，其中微软 KDD2018 tutorial 就特别清晰易懂。\n",
    "\n",
    "也可以包括其他的因果教材：https://sites.google.com/view/causal-inference-zerotoall/bookscourses"
   ]
  },
  {
   "cell_type": "code",
   "execution_count": null,
   "metadata": {},
   "outputs": [],
   "source": []
  }
 ],
 "metadata": {
  "kernelspec": {
   "display_name": "Python 3",
   "language": "python",
   "name": "python3"
  },
  "language_info": {
   "codemirror_mode": {
    "name": "ipython",
    "version": 3
   },
   "file_extension": ".py",
   "mimetype": "text/x-python",
   "name": "python",
   "nbconvert_exporter": "python",
   "pygments_lexer": "ipython3",
   "version": "3.7.4"
  },
  "toc": {
   "base_numbering": 1,
   "nav_menu": {},
   "number_sections": true,
   "sideBar": true,
   "skip_h1_title": false,
   "title_cell": "Table of Contents",
   "title_sidebar": "Contents",
   "toc_cell": false,
   "toc_position": {},
   "toc_section_display": true,
   "toc_window_display": true
  }
 },
 "nbformat": 4,
 "nbformat_minor": 4
}
